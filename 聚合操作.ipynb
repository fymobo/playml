{
 "cells": [
  {
   "cell_type": "code",
   "execution_count": 1,
   "metadata": {
    "ExecuteTime": {
     "end_time": "2020-06-08T13:40:16.776121Z",
     "start_time": "2020-06-08T13:40:16.654195Z"
    }
   },
   "outputs": [],
   "source": [
    "import numpy as np\n",
    "L = np.random.random(100)"
   ]
  },
  {
   "cell_type": "code",
   "execution_count": 2,
   "metadata": {
    "ExecuteTime": {
     "end_time": "2020-06-08T13:40:20.024230Z",
     "start_time": "2020-06-08T13:40:20.011238Z"
    }
   },
   "outputs": [
    {
     "data": {
      "text/plain": [
       "array([0.10563064, 0.0644243 , 0.61751189, 0.06526868, 0.88881696,\n",
       "       0.73661411, 0.75118455, 0.66507946, 0.18710214, 0.42090476,\n",
       "       0.32384594, 0.43742277, 0.11299728, 0.00158606, 0.68829192,\n",
       "       0.25664779, 0.5490248 , 0.16861087, 0.84717522, 0.43526432,\n",
       "       0.86757023, 0.61608453, 0.47775858, 0.73409361, 0.65333277,\n",
       "       0.64953945, 0.06876016, 0.75287877, 0.3842721 , 0.13749131,\n",
       "       0.38355473, 0.26237685, 0.28904986, 0.25645138, 0.904983  ,\n",
       "       0.9046257 , 0.88878924, 0.66259126, 0.12675132, 0.50979893,\n",
       "       0.62223928, 0.06085366, 0.16023834, 0.84207101, 0.18600699,\n",
       "       0.28030294, 0.62880023, 0.4485546 , 0.21460563, 0.92283172,\n",
       "       0.84187202, 0.33422932, 0.11505253, 0.63185026, 0.26892481,\n",
       "       0.16838587, 0.57393403, 0.28104039, 0.57908614, 0.46782675,\n",
       "       0.82301577, 0.63129293, 0.70148604, 0.97349534, 0.67635794,\n",
       "       0.22537809, 0.7755147 , 0.93909979, 0.89753387, 0.93312656,\n",
       "       0.89510478, 0.46379245, 0.22487117, 0.67548674, 0.12923638,\n",
       "       0.25143121, 0.87679632, 0.99358742, 0.0351162 , 0.53918591,\n",
       "       0.8240136 , 0.26897579, 0.46865174, 0.81714507, 0.86550587,\n",
       "       0.30137505, 0.13630851, 0.53723678, 0.97071631, 0.73300572,\n",
       "       0.36582326, 0.4572128 , 0.19528093, 0.62246871, 0.4979392 ,\n",
       "       0.31502325, 0.53058893, 0.15588852, 0.87588307, 0.64310225])"
      ]
     },
     "execution_count": 2,
     "metadata": {},
     "output_type": "execute_result"
    }
   ],
   "source": [
    "L"
   ]
  },
  {
   "cell_type": "code",
   "execution_count": 3,
   "metadata": {
    "ExecuteTime": {
     "end_time": "2020-06-08T13:40:28.329358Z",
     "start_time": "2020-06-08T13:40:28.324361Z"
    }
   },
   "outputs": [
    {
     "data": {
      "text/plain": [
       "50.725919738828"
      ]
     },
     "execution_count": 3,
     "metadata": {},
     "output_type": "execute_result"
    }
   ],
   "source": [
    "sum(L)"
   ]
  },
  {
   "cell_type": "code",
   "execution_count": 4,
   "metadata": {
    "ExecuteTime": {
     "end_time": "2020-06-08T13:40:42.405184Z",
     "start_time": "2020-06-08T13:40:42.400188Z"
    }
   },
   "outputs": [
    {
     "data": {
      "text/plain": [
       "50.725919738828"
      ]
     },
     "execution_count": 4,
     "metadata": {},
     "output_type": "execute_result"
    }
   ],
   "source": [
    "np.sum(L)"
   ]
  },
  {
   "cell_type": "code",
   "execution_count": 5,
   "metadata": {
    "ExecuteTime": {
     "end_time": "2020-06-08T13:41:38.914879Z",
     "start_time": "2020-06-08T13:41:17.937955Z"
    }
   },
   "outputs": [
    {
     "name": "stdout",
     "output_type": "stream",
     "text": [
      "173 ms ± 2.84 ms per loop (mean ± std. dev. of 7 runs, 10 loops each)\n",
      "835 µs ± 88.8 µs per loop (mean ± std. dev. of 7 runs, 1000 loops each)\n"
     ]
    }
   ],
   "source": [
    "big_array = np.random.random(1000000)\n",
    "%timeit sum(big_array)\n",
    "%timeit np.sum(big_array)"
   ]
  },
  {
   "cell_type": "code",
   "execution_count": 7,
   "metadata": {
    "ExecuteTime": {
     "end_time": "2020-06-08T13:42:08.656169Z",
     "start_time": "2020-06-08T13:42:08.650172Z"
    }
   },
   "outputs": [
    {
     "data": {
      "text/plain": [
       "2.1202656458330083e-06"
      ]
     },
     "execution_count": 7,
     "metadata": {},
     "output_type": "execute_result"
    }
   ],
   "source": [
    "np.min(big_array)"
   ]
  },
  {
   "cell_type": "code",
   "execution_count": 9,
   "metadata": {
    "ExecuteTime": {
     "end_time": "2020-06-08T13:42:15.433115Z",
     "start_time": "2020-06-08T13:42:15.425120Z"
    }
   },
   "outputs": [
    {
     "data": {
      "text/plain": [
       "0.9999990428770178"
      ]
     },
     "execution_count": 9,
     "metadata": {},
     "output_type": "execute_result"
    }
   ],
   "source": [
    "np.max(big_array)"
   ]
  },
  {
   "cell_type": "code",
   "execution_count": 11,
   "metadata": {
    "ExecuteTime": {
     "end_time": "2020-06-08T13:43:03.932121Z",
     "start_time": "2020-06-08T13:43:03.925499Z"
    }
   },
   "outputs": [
    {
     "data": {
      "text/plain": [
       "array([[ 0,  1,  2,  3],\n",
       "       [ 4,  5,  6,  7],\n",
       "       [ 8,  9, 10, 11],\n",
       "       [12, 13, 14, 15]])"
      ]
     },
     "execution_count": 11,
     "metadata": {},
     "output_type": "execute_result"
    }
   ],
   "source": [
    "X = np.arange(16).reshape(4, -1)\n",
    "X"
   ]
  },
  {
   "cell_type": "code",
   "execution_count": 12,
   "metadata": {
    "ExecuteTime": {
     "end_time": "2020-06-08T13:43:19.680866Z",
     "start_time": "2020-06-08T13:43:19.674868Z"
    }
   },
   "outputs": [
    {
     "data": {
      "text/plain": [
       "120"
      ]
     },
     "execution_count": 12,
     "metadata": {},
     "output_type": "execute_result"
    }
   ],
   "source": [
    "np.sum(X)"
   ]
  },
  {
   "cell_type": "code",
   "execution_count": 14,
   "metadata": {
    "ExecuteTime": {
     "end_time": "2020-06-08T13:44:05.132000Z",
     "start_time": "2020-06-08T13:44:05.126004Z"
    }
   },
   "outputs": [
    {
     "data": {
      "text/plain": [
       "array([ 6, 22, 38, 54])"
      ]
     },
     "execution_count": 14,
     "metadata": {},
     "output_type": "execute_result"
    }
   ],
   "source": [
    "np.sum(X, axis = 1)  #按行,沿着列计算   vsplit 沿着垂直方向按行分割"
   ]
  },
  {
   "cell_type": "code",
   "execution_count": 16,
   "metadata": {
    "ExecuteTime": {
     "end_time": "2020-06-08T13:46:58.323620Z",
     "start_time": "2020-06-08T13:46:58.318624Z"
    }
   },
   "outputs": [
    {
     "data": {
      "text/plain": [
       "array([24, 28, 32, 36])"
      ]
     },
     "execution_count": 16,
     "metadata": {},
     "output_type": "execute_result"
    }
   ],
   "source": [
    "np.sum(X, axis = 0) #按列，沿着行  压缩行"
   ]
  },
  {
   "cell_type": "code",
   "execution_count": 17,
   "metadata": {
    "ExecuteTime": {
     "end_time": "2020-06-08T13:47:05.945283Z",
     "start_time": "2020-06-08T13:47:05.940285Z"
    }
   },
   "outputs": [
    {
     "data": {
      "text/plain": [
       "0"
      ]
     },
     "execution_count": 17,
     "metadata": {},
     "output_type": "execute_result"
    }
   ],
   "source": [
    "np.prod(X)"
   ]
  },
  {
   "cell_type": "code",
   "execution_count": 19,
   "metadata": {
    "ExecuteTime": {
     "end_time": "2020-06-08T13:47:16.321831Z",
     "start_time": "2020-06-08T13:47:16.315834Z"
    }
   },
   "outputs": [
    {
     "data": {
      "text/plain": [
       "2004189184"
      ]
     },
     "execution_count": 19,
     "metadata": {},
     "output_type": "execute_result"
    }
   ],
   "source": [
    "np.prod(X+1)"
   ]
  },
  {
   "cell_type": "code",
   "execution_count": 20,
   "metadata": {
    "ExecuteTime": {
     "end_time": "2020-06-08T13:47:30.896474Z",
     "start_time": "2020-06-08T13:47:30.890476Z"
    }
   },
   "outputs": [
    {
     "data": {
      "text/plain": [
       "7.5"
      ]
     },
     "execution_count": 20,
     "metadata": {},
     "output_type": "execute_result"
    }
   ],
   "source": [
    "np.mean(X)"
   ]
  },
  {
   "cell_type": "code",
   "execution_count": 21,
   "metadata": {
    "ExecuteTime": {
     "end_time": "2020-06-08T13:47:46.812354Z",
     "start_time": "2020-06-08T13:47:46.802360Z"
    }
   },
   "outputs": [
    {
     "data": {
      "text/plain": [
       "7.5"
      ]
     },
     "execution_count": 21,
     "metadata": {},
     "output_type": "execute_result"
    }
   ],
   "source": [
    "np.median(X)"
   ]
  },
  {
   "cell_type": "code",
   "execution_count": 22,
   "metadata": {
    "ExecuteTime": {
     "end_time": "2020-06-08T13:48:09.820581Z",
     "start_time": "2020-06-08T13:48:09.815584Z"
    }
   },
   "outputs": [
    {
     "data": {
      "text/plain": [
       "3.2"
      ]
     },
     "execution_count": 22,
     "metadata": {},
     "output_type": "execute_result"
    }
   ],
   "source": [
    "v = np.array([1, 1, 2, 2, 10])\n",
    "np.mean(v)"
   ]
  },
  {
   "cell_type": "code",
   "execution_count": 23,
   "metadata": {
    "ExecuteTime": {
     "end_time": "2020-06-08T13:48:21.795647Z",
     "start_time": "2020-06-08T13:48:21.791650Z"
    }
   },
   "outputs": [
    {
     "data": {
      "text/plain": [
       "2.0"
      ]
     },
     "execution_count": 23,
     "metadata": {},
     "output_type": "execute_result"
    }
   ],
   "source": [
    "np.median(v)"
   ]
  },
  {
   "cell_type": "code",
   "execution_count": 24,
   "metadata": {
    "ExecuteTime": {
     "end_time": "2020-06-08T13:49:56.626570Z",
     "start_time": "2020-06-08T13:49:56.604583Z"
    }
   },
   "outputs": [
    {
     "data": {
      "text/plain": [
       "0.5001072726001273"
      ]
     },
     "execution_count": 24,
     "metadata": {},
     "output_type": "execute_result"
    }
   ],
   "source": [
    "np.percentile(big_array, q = 50)"
   ]
  },
  {
   "cell_type": "code",
   "execution_count": 25,
   "metadata": {
    "ExecuteTime": {
     "end_time": "2020-06-08T13:50:04.743662Z",
     "start_time": "2020-06-08T13:50:04.717678Z"
    }
   },
   "outputs": [
    {
     "data": {
      "text/plain": [
       "0.5001072726001273"
      ]
     },
     "execution_count": 25,
     "metadata": {},
     "output_type": "execute_result"
    }
   ],
   "source": [
    "np.median(big_array)"
   ]
  },
  {
   "cell_type": "code",
   "execution_count": 26,
   "metadata": {
    "ExecuteTime": {
     "end_time": "2020-06-08T13:50:18.047706Z",
     "start_time": "2020-06-08T13:50:18.030717Z"
    }
   },
   "outputs": [
    {
     "data": {
      "text/plain": [
       "0.9999990428770178"
      ]
     },
     "execution_count": 26,
     "metadata": {},
     "output_type": "execute_result"
    }
   ],
   "source": [
    "np.percentile(big_array, q = 100)"
   ]
  },
  {
   "cell_type": "code",
   "execution_count": 27,
   "metadata": {
    "ExecuteTime": {
     "end_time": "2020-06-08T13:50:23.347309Z",
     "start_time": "2020-06-08T13:50:23.341312Z"
    }
   },
   "outputs": [
    {
     "data": {
      "text/plain": [
       "0.9999990428770178"
      ]
     },
     "execution_count": 27,
     "metadata": {},
     "output_type": "execute_result"
    }
   ],
   "source": [
    "np.max(big_array)"
   ]
  },
  {
   "cell_type": "code",
   "execution_count": 28,
   "metadata": {
    "ExecuteTime": {
     "end_time": "2020-06-08T13:50:48.733046Z",
     "start_time": "2020-06-08T13:50:48.657094Z"
    }
   },
   "outputs": [
    {
     "name": "stdout",
     "output_type": "stream",
     "text": [
      "2.1202656458330083e-06\n",
      "0.24924826373435285\n",
      "0.5001072726001273\n",
      "0.7499703251759\n",
      "0.9999990428770178\n"
     ]
    }
   ],
   "source": [
    "for percent in [0, 25, 50, 75, 100]:\n",
    "    print(np.percentile(big_array, q = percent))"
   ]
  },
  {
   "cell_type": "code",
   "execution_count": 29,
   "metadata": {
    "ExecuteTime": {
     "end_time": "2020-06-08T13:50:54.694994Z",
     "start_time": "2020-06-08T13:50:54.667011Z"
    }
   },
   "outputs": [
    {
     "data": {
      "text/plain": [
       "0.08338398206176195"
      ]
     },
     "execution_count": 29,
     "metadata": {},
     "output_type": "execute_result"
    }
   ],
   "source": [
    "np.var(big_array)"
   ]
  },
  {
   "cell_type": "code",
   "execution_count": 30,
   "metadata": {
    "ExecuteTime": {
     "end_time": "2020-06-08T13:51:00.851174Z",
     "start_time": "2020-06-08T13:51:00.817196Z"
    }
   },
   "outputs": [
    {
     "data": {
      "text/plain": [
       "0.2887628474401822"
      ]
     },
     "execution_count": 30,
     "metadata": {},
     "output_type": "execute_result"
    }
   ],
   "source": [
    "np.std(big_array)"
   ]
  },
  {
   "cell_type": "code",
   "execution_count": 35,
   "metadata": {
    "ExecuteTime": {
     "end_time": "2020-06-08T13:52:31.096692Z",
     "start_time": "2020-06-08T13:52:31.047722Z"
    }
   },
   "outputs": [],
   "source": [
    "x = np.random.normal(0, 1, 1000000)"
   ]
  },
  {
   "cell_type": "code",
   "execution_count": 36,
   "metadata": {
    "ExecuteTime": {
     "end_time": "2020-06-08T13:52:31.415496Z",
     "start_time": "2020-06-08T13:52:31.406502Z"
    }
   },
   "outputs": [
    {
     "data": {
      "text/plain": [
       "0.0002829841233661229"
      ]
     },
     "execution_count": 36,
     "metadata": {},
     "output_type": "execute_result"
    }
   ],
   "source": [
    "np.mean(x)"
   ]
  },
  {
   "cell_type": "code",
   "execution_count": 37,
   "metadata": {
    "ExecuteTime": {
     "end_time": "2020-06-08T13:52:31.614897Z",
     "start_time": "2020-06-08T13:52:31.595908Z"
    }
   },
   "outputs": [
    {
     "data": {
      "text/plain": [
       "1.000455193330108"
      ]
     },
     "execution_count": 37,
     "metadata": {},
     "output_type": "execute_result"
    }
   ],
   "source": [
    "np.std(x)"
   ]
  },
  {
   "cell_type": "markdown",
   "metadata": {},
   "source": [
    "## 索引"
   ]
  },
  {
   "cell_type": "code",
   "execution_count": 39,
   "metadata": {
    "ExecuteTime": {
     "end_time": "2020-06-08T13:52:37.951284Z",
     "start_time": "2020-06-08T13:52:37.944287Z"
    }
   },
   "outputs": [
    {
     "data": {
      "text/plain": [
       "-4.5456116854374695"
      ]
     },
     "execution_count": 39,
     "metadata": {},
     "output_type": "execute_result"
    }
   ],
   "source": [
    "np.min(x)"
   ]
  },
  {
   "cell_type": "code",
   "execution_count": 40,
   "metadata": {
    "ExecuteTime": {
     "end_time": "2020-06-08T13:52:44.102660Z",
     "start_time": "2020-06-08T13:52:44.093665Z"
    }
   },
   "outputs": [
    {
     "data": {
      "text/plain": [
       "51228"
      ]
     },
     "execution_count": 40,
     "metadata": {},
     "output_type": "execute_result"
    }
   ],
   "source": [
    "np.argmin(x)"
   ]
  },
  {
   "cell_type": "code",
   "execution_count": 41,
   "metadata": {
    "ExecuteTime": {
     "end_time": "2020-06-08T13:52:52.650413Z",
     "start_time": "2020-06-08T13:52:52.644416Z"
    }
   },
   "outputs": [
    {
     "data": {
      "text/plain": [
       "-4.5456116854374695"
      ]
     },
     "execution_count": 41,
     "metadata": {},
     "output_type": "execute_result"
    }
   ],
   "source": [
    "x[51228]"
   ]
  },
  {
   "cell_type": "code",
   "execution_count": 42,
   "metadata": {
    "ExecuteTime": {
     "end_time": "2020-06-08T13:53:10.301060Z",
     "start_time": "2020-06-08T13:53:10.294064Z"
    }
   },
   "outputs": [
    {
     "data": {
      "text/plain": [
       "936120"
      ]
     },
     "execution_count": 42,
     "metadata": {},
     "output_type": "execute_result"
    }
   ],
   "source": [
    "np.argmax(x)"
   ]
  },
  {
   "cell_type": "code",
   "execution_count": 43,
   "metadata": {
    "ExecuteTime": {
     "end_time": "2020-06-08T13:53:17.200243Z",
     "start_time": "2020-06-08T13:53:17.194246Z"
    }
   },
   "outputs": [
    {
     "data": {
      "text/plain": [
       "4.60648353727154"
      ]
     },
     "execution_count": 43,
     "metadata": {},
     "output_type": "execute_result"
    }
   ],
   "source": [
    "x[936120]"
   ]
  },
  {
   "cell_type": "code",
   "execution_count": 44,
   "metadata": {
    "ExecuteTime": {
     "end_time": "2020-06-08T13:53:45.578600Z",
     "start_time": "2020-06-08T13:53:45.571605Z"
    }
   },
   "outputs": [
    {
     "data": {
      "text/plain": [
       "4.60648353727154"
      ]
     },
     "execution_count": 44,
     "metadata": {},
     "output_type": "execute_result"
    }
   ],
   "source": [
    "np.max(x)"
   ]
  },
  {
   "cell_type": "markdown",
   "metadata": {},
   "source": [
    "## 排序和索引"
   ]
  },
  {
   "cell_type": "code",
   "execution_count": 45,
   "metadata": {
    "ExecuteTime": {
     "end_time": "2020-06-08T13:54:04.501786Z",
     "start_time": "2020-06-08T13:54:04.494791Z"
    }
   },
   "outputs": [
    {
     "data": {
      "text/plain": [
       "array([ 0,  1,  2,  3,  4,  5,  6,  7,  8,  9, 10, 11, 12, 13, 14, 15])"
      ]
     },
     "execution_count": 45,
     "metadata": {},
     "output_type": "execute_result"
    }
   ],
   "source": [
    "x = np.arange(16)\n",
    "x"
   ]
  },
  {
   "cell_type": "code",
   "execution_count": 47,
   "metadata": {
    "ExecuteTime": {
     "end_time": "2020-06-08T13:54:18.887903Z",
     "start_time": "2020-06-08T13:54:18.882906Z"
    }
   },
   "outputs": [
    {
     "data": {
      "text/plain": [
       "array([14,  7,  6,  1, 10,  4,  2, 15,  5,  0, 12,  9,  3, 13, 11,  8])"
      ]
     },
     "execution_count": 47,
     "metadata": {},
     "output_type": "execute_result"
    }
   ],
   "source": [
    "np.random.shuffle(x)\n",
    "x"
   ]
  },
  {
   "cell_type": "code",
   "execution_count": 48,
   "metadata": {
    "ExecuteTime": {
     "end_time": "2020-06-08T13:54:23.791789Z",
     "start_time": "2020-06-08T13:54:23.782794Z"
    }
   },
   "outputs": [
    {
     "data": {
      "text/plain": [
       "array([ 0,  1,  2,  3,  4,  5,  6,  7,  8,  9, 10, 11, 12, 13, 14, 15])"
      ]
     },
     "execution_count": 48,
     "metadata": {},
     "output_type": "execute_result"
    }
   ],
   "source": [
    "np.sort(x)"
   ]
  },
  {
   "cell_type": "code",
   "execution_count": 49,
   "metadata": {
    "ExecuteTime": {
     "end_time": "2020-06-08T13:54:35.699373Z",
     "start_time": "2020-06-08T13:54:35.694375Z"
    }
   },
   "outputs": [
    {
     "data": {
      "text/plain": [
       "array([14,  7,  6,  1, 10,  4,  2, 15,  5,  0, 12,  9,  3, 13, 11,  8])"
      ]
     },
     "execution_count": 49,
     "metadata": {},
     "output_type": "execute_result"
    }
   ],
   "source": [
    "x"
   ]
  },
  {
   "cell_type": "code",
   "execution_count": 52,
   "metadata": {
    "ExecuteTime": {
     "end_time": "2020-06-08T13:54:52.065773Z",
     "start_time": "2020-06-08T13:54:52.057779Z"
    }
   },
   "outputs": [
    {
     "data": {
      "text/plain": [
       "array([ 0,  1,  2,  3,  4,  5,  6,  7,  8,  9, 10, 11, 12, 13, 14, 15])"
      ]
     },
     "execution_count": 52,
     "metadata": {},
     "output_type": "execute_result"
    }
   ],
   "source": [
    "x.sort()\n",
    "x"
   ]
  },
  {
   "cell_type": "code",
   "execution_count": 53,
   "metadata": {
    "ExecuteTime": {
     "end_time": "2020-06-08T13:55:15.178181Z",
     "start_time": "2020-06-08T13:55:15.170187Z"
    }
   },
   "outputs": [
    {
     "data": {
      "text/plain": [
       "array([[9, 4, 6, 3],\n",
       "       [1, 9, 4, 2],\n",
       "       [9, 3, 3, 1],\n",
       "       [3, 4, 6, 7]])"
      ]
     },
     "execution_count": 53,
     "metadata": {},
     "output_type": "execute_result"
    }
   ],
   "source": [
    "X = np.random.randint(10, size=(4,4))\n",
    "X"
   ]
  },
  {
   "cell_type": "code",
   "execution_count": 54,
   "metadata": {
    "ExecuteTime": {
     "end_time": "2020-06-08T13:55:25.413184Z",
     "start_time": "2020-06-08T13:55:25.408186Z"
    }
   },
   "outputs": [
    {
     "data": {
      "text/plain": [
       "array([[3, 4, 6, 9],\n",
       "       [1, 2, 4, 9],\n",
       "       [1, 3, 3, 9],\n",
       "       [3, 4, 6, 7]])"
      ]
     },
     "execution_count": 54,
     "metadata": {},
     "output_type": "execute_result"
    }
   ],
   "source": [
    "np.sort(X)  #按行排序 axis=1  沿着列排序"
   ]
  },
  {
   "cell_type": "code",
   "execution_count": 55,
   "metadata": {
    "ExecuteTime": {
     "end_time": "2020-06-08T13:56:04.353294Z",
     "start_time": "2020-06-08T13:56:04.347299Z"
    }
   },
   "outputs": [
    {
     "data": {
      "text/plain": [
       "array([[1, 3, 3, 1],\n",
       "       [3, 4, 4, 2],\n",
       "       [9, 4, 6, 3],\n",
       "       [9, 9, 6, 7]])"
      ]
     },
     "execution_count": 55,
     "metadata": {},
     "output_type": "execute_result"
    }
   ],
   "source": [
    "np.sort(X, axis = 0)"
   ]
  },
  {
   "cell_type": "code",
   "execution_count": 56,
   "metadata": {
    "ExecuteTime": {
     "end_time": "2020-06-08T14:00:08.944094Z",
     "start_time": "2020-06-08T14:00:08.937099Z"
    }
   },
   "outputs": [
    {
     "data": {
      "text/plain": [
       "array([ 0,  1,  2,  3,  4,  5,  6,  7,  8,  9, 10, 11, 12, 13, 14, 15])"
      ]
     },
     "execution_count": 56,
     "metadata": {},
     "output_type": "execute_result"
    }
   ],
   "source": [
    "x"
   ]
  },
  {
   "cell_type": "code",
   "execution_count": 59,
   "metadata": {
    "ExecuteTime": {
     "end_time": "2020-06-08T14:00:29.980462Z",
     "start_time": "2020-06-08T14:00:29.974463Z"
    }
   },
   "outputs": [
    {
     "data": {
      "text/plain": [
       "array([ 9,  0, 11, 13,  6,  8,  1, 14,  4, 10,  7, 12, 15,  5,  2,  3])"
      ]
     },
     "execution_count": 59,
     "metadata": {},
     "output_type": "execute_result"
    }
   ],
   "source": [
    "np.random.shuffle(x)\n",
    "x"
   ]
  },
  {
   "cell_type": "code",
   "execution_count": 60,
   "metadata": {
    "ExecuteTime": {
     "end_time": "2020-06-08T14:00:36.218286Z",
     "start_time": "2020-06-08T14:00:36.212290Z"
    }
   },
   "outputs": [
    {
     "data": {
      "text/plain": [
       "array([ 1,  6, 14, 15,  8, 13,  4, 10,  5,  0,  9,  2, 11,  3,  7, 12],\n",
       "      dtype=int64)"
      ]
     },
     "execution_count": 60,
     "metadata": {},
     "output_type": "execute_result"
    }
   ],
   "source": [
    "np.argsort(x)  #位置代表排序位置，数字代表原数组中相应对象的索引值"
   ]
  },
  {
   "cell_type": "code",
   "execution_count": 62,
   "metadata": {
    "ExecuteTime": {
     "end_time": "2020-06-08T14:02:40.529888Z",
     "start_time": "2020-06-08T14:02:40.524891Z"
    }
   },
   "outputs": [
    {
     "data": {
      "text/plain": [
       "array([ 0,  1,  2,  3,  4,  5,  6,  8,  7,  9, 10, 12, 15, 13, 11, 14])"
      ]
     },
     "execution_count": 62,
     "metadata": {},
     "output_type": "execute_result"
    }
   ],
   "source": [
    "np.partition(x, 3)  #arg2 标定点 标定点前或后的是无序的"
   ]
  },
  {
   "cell_type": "code",
   "execution_count": 63,
   "metadata": {
    "ExecuteTime": {
     "end_time": "2020-06-08T14:02:49.957168Z",
     "start_time": "2020-06-08T14:02:49.950171Z"
    }
   },
   "outputs": [
    {
     "data": {
      "text/plain": [
       "array([ 1,  6, 14, 15,  8, 13,  4,  5, 10,  0,  9, 11, 12,  3,  2,  7],\n",
       "      dtype=int64)"
      ]
     },
     "execution_count": 63,
     "metadata": {},
     "output_type": "execute_result"
    }
   ],
   "source": [
    "np.argpartition(x, 3)"
   ]
  },
  {
   "cell_type": "code",
   "execution_count": 64,
   "metadata": {
    "ExecuteTime": {
     "end_time": "2020-06-08T14:03:27.906583Z",
     "start_time": "2020-06-08T14:03:27.900587Z"
    }
   },
   "outputs": [
    {
     "data": {
      "text/plain": [
       "array([[3, 1, 2, 0],\n",
       "       [0, 3, 2, 1],\n",
       "       [3, 1, 2, 0],\n",
       "       [0, 1, 2, 3]], dtype=int64)"
      ]
     },
     "execution_count": 64,
     "metadata": {},
     "output_type": "execute_result"
    }
   ],
   "source": [
    "np.argsort(X, axis=1)"
   ]
  },
  {
   "cell_type": "code",
   "execution_count": 65,
   "metadata": {
    "ExecuteTime": {
     "end_time": "2020-06-08T14:04:00.905258Z",
     "start_time": "2020-06-08T14:04:00.900257Z"
    }
   },
   "outputs": [
    {
     "data": {
      "text/plain": [
       "array([[1, 2, 2, 2],\n",
       "       [3, 0, 1, 1],\n",
       "       [0, 3, 0, 0],\n",
       "       [2, 1, 3, 3]], dtype=int64)"
      ]
     },
     "execution_count": 65,
     "metadata": {},
     "output_type": "execute_result"
    }
   ],
   "source": [
    "np.argsort(X, axis=0)"
   ]
  },
  {
   "cell_type": "code",
   "execution_count": null,
   "metadata": {},
   "outputs": [],
   "source": []
  }
 ],
 "metadata": {
  "kernelspec": {
   "display_name": "Python 3",
   "language": "python",
   "name": "python3"
  },
  "language_info": {
   "codemirror_mode": {
    "name": "ipython",
    "version": 3
   },
   "file_extension": ".py",
   "mimetype": "text/x-python",
   "name": "python",
   "nbconvert_exporter": "python",
   "pygments_lexer": "ipython3",
   "version": "3.7.6"
  }
 },
 "nbformat": 4,
 "nbformat_minor": 4
}
